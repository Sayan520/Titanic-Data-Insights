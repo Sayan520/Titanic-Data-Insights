{
 "cells": [
  {
   "cell_type": "code",
   "execution_count": 1,
   "id": "162b2610",
   "metadata": {},
   "outputs": [],
   "source": [
    "# Importing essential libraries\n",
    "import pandas as pd\n",
    "import numpy as np"
   ]
  },
  {
   "cell_type": "code",
   "execution_count": 2,
   "id": "c9a0ddf2",
   "metadata": {},
   "outputs": [
    {
     "data": {
      "text/html": [
       "<div>\n",
       "<style scoped>\n",
       "    .dataframe tbody tr th:only-of-type {\n",
       "        vertical-align: middle;\n",
       "    }\n",
       "\n",
       "    .dataframe tbody tr th {\n",
       "        vertical-align: top;\n",
       "    }\n",
       "\n",
       "    .dataframe thead th {\n",
       "        text-align: right;\n",
       "    }\n",
       "</style>\n",
       "<table border=\"1\" class=\"dataframe\">\n",
       "  <thead>\n",
       "    <tr style=\"text-align: right;\">\n",
       "      <th></th>\n",
       "      <th>PassengerId</th>\n",
       "      <th>Survived</th>\n",
       "      <th>Pclass</th>\n",
       "      <th>Name</th>\n",
       "      <th>Sex</th>\n",
       "      <th>Age</th>\n",
       "      <th>SibSp</th>\n",
       "      <th>Parch</th>\n",
       "      <th>Ticket</th>\n",
       "      <th>Fare</th>\n",
       "      <th>Cabin</th>\n",
       "      <th>Embarked</th>\n",
       "    </tr>\n",
       "  </thead>\n",
       "  <tbody>\n",
       "    <tr>\n",
       "      <th>0</th>\n",
       "      <td>892</td>\n",
       "      <td>0</td>\n",
       "      <td>3</td>\n",
       "      <td>Kelly, Mr. James</td>\n",
       "      <td>male</td>\n",
       "      <td>34.5</td>\n",
       "      <td>0</td>\n",
       "      <td>0</td>\n",
       "      <td>330911</td>\n",
       "      <td>7.8292</td>\n",
       "      <td>NaN</td>\n",
       "      <td>Q</td>\n",
       "    </tr>\n",
       "    <tr>\n",
       "      <th>1</th>\n",
       "      <td>893</td>\n",
       "      <td>1</td>\n",
       "      <td>3</td>\n",
       "      <td>Wilkes, Mrs. James (Ellen Needs)</td>\n",
       "      <td>female</td>\n",
       "      <td>47.0</td>\n",
       "      <td>1</td>\n",
       "      <td>0</td>\n",
       "      <td>363272</td>\n",
       "      <td>7.0000</td>\n",
       "      <td>NaN</td>\n",
       "      <td>S</td>\n",
       "    </tr>\n",
       "    <tr>\n",
       "      <th>2</th>\n",
       "      <td>894</td>\n",
       "      <td>0</td>\n",
       "      <td>2</td>\n",
       "      <td>Myles, Mr. Thomas Francis</td>\n",
       "      <td>male</td>\n",
       "      <td>62.0</td>\n",
       "      <td>0</td>\n",
       "      <td>0</td>\n",
       "      <td>240276</td>\n",
       "      <td>9.6875</td>\n",
       "      <td>NaN</td>\n",
       "      <td>Q</td>\n",
       "    </tr>\n",
       "    <tr>\n",
       "      <th>3</th>\n",
       "      <td>895</td>\n",
       "      <td>0</td>\n",
       "      <td>3</td>\n",
       "      <td>Wirz, Mr. Albert</td>\n",
       "      <td>male</td>\n",
       "      <td>27.0</td>\n",
       "      <td>0</td>\n",
       "      <td>0</td>\n",
       "      <td>315154</td>\n",
       "      <td>8.6625</td>\n",
       "      <td>NaN</td>\n",
       "      <td>S</td>\n",
       "    </tr>\n",
       "    <tr>\n",
       "      <th>4</th>\n",
       "      <td>896</td>\n",
       "      <td>1</td>\n",
       "      <td>3</td>\n",
       "      <td>Hirvonen, Mrs. Alexander (Helga E Lindqvist)</td>\n",
       "      <td>female</td>\n",
       "      <td>22.0</td>\n",
       "      <td>1</td>\n",
       "      <td>1</td>\n",
       "      <td>3101298</td>\n",
       "      <td>12.2875</td>\n",
       "      <td>NaN</td>\n",
       "      <td>S</td>\n",
       "    </tr>\n",
       "  </tbody>\n",
       "</table>\n",
       "</div>"
      ],
      "text/plain": [
       "   PassengerId  Survived  Pclass  \\\n",
       "0          892         0       3   \n",
       "1          893         1       3   \n",
       "2          894         0       2   \n",
       "3          895         0       3   \n",
       "4          896         1       3   \n",
       "\n",
       "                                           Name     Sex   Age  SibSp  Parch  \\\n",
       "0                              Kelly, Mr. James    male  34.5      0      0   \n",
       "1              Wilkes, Mrs. James (Ellen Needs)  female  47.0      1      0   \n",
       "2                     Myles, Mr. Thomas Francis    male  62.0      0      0   \n",
       "3                              Wirz, Mr. Albert    male  27.0      0      0   \n",
       "4  Hirvonen, Mrs. Alexander (Helga E Lindqvist)  female  22.0      1      1   \n",
       "\n",
       "    Ticket     Fare Cabin Embarked  \n",
       "0   330911   7.8292   NaN        Q  \n",
       "1   363272   7.0000   NaN        S  \n",
       "2   240276   9.6875   NaN        Q  \n",
       "3   315154   8.6625   NaN        S  \n",
       "4  3101298  12.2875   NaN        S  "
      ]
     },
     "execution_count": 2,
     "metadata": {},
     "output_type": "execute_result"
    }
   ],
   "source": [
    "# load & Display the first few rows\n",
    "titanic_data = pd.read_csv('titanic.csv')\n",
    "titanic_data.head()"
   ]
  },
  {
   "cell_type": "code",
   "execution_count": 3,
   "id": "ad91b320",
   "metadata": {},
   "outputs": [
    {
     "name": "stdout",
     "output_type": "stream",
     "text": [
      "<class 'pandas.core.frame.DataFrame'>\n",
      "RangeIndex: 418 entries, 0 to 417\n",
      "Data columns (total 12 columns):\n",
      " #   Column       Non-Null Count  Dtype  \n",
      "---  ------       --------------  -----  \n",
      " 0   PassengerId  418 non-null    int64  \n",
      " 1   Survived     418 non-null    int64  \n",
      " 2   Pclass       418 non-null    int64  \n",
      " 3   Name         418 non-null    object \n",
      " 4   Sex          418 non-null    object \n",
      " 5   Age          332 non-null    float64\n",
      " 6   SibSp        418 non-null    int64  \n",
      " 7   Parch        418 non-null    int64  \n",
      " 8   Ticket       418 non-null    object \n",
      " 9   Fare         417 non-null    float64\n",
      " 10  Cabin        91 non-null     object \n",
      " 11  Embarked     418 non-null    object \n",
      "dtypes: float64(2), int64(5), object(5)\n",
      "memory usage: 39.3+ KB\n"
     ]
    }
   ],
   "source": [
    "# Displaying basic information \n",
    "titanic_data.info()"
   ]
  },
  {
   "cell_type": "code",
   "execution_count": 4,
   "id": "c2e42d09",
   "metadata": {},
   "outputs": [
    {
     "data": {
      "text/html": [
       "<div>\n",
       "<style scoped>\n",
       "    .dataframe tbody tr th:only-of-type {\n",
       "        vertical-align: middle;\n",
       "    }\n",
       "\n",
       "    .dataframe tbody tr th {\n",
       "        vertical-align: top;\n",
       "    }\n",
       "\n",
       "    .dataframe thead th {\n",
       "        text-align: right;\n",
       "    }\n",
       "</style>\n",
       "<table border=\"1\" class=\"dataframe\">\n",
       "  <thead>\n",
       "    <tr style=\"text-align: right;\">\n",
       "      <th></th>\n",
       "      <th>PassengerId</th>\n",
       "      <th>Survived</th>\n",
       "      <th>Pclass</th>\n",
       "      <th>Age</th>\n",
       "      <th>SibSp</th>\n",
       "      <th>Parch</th>\n",
       "      <th>Fare</th>\n",
       "    </tr>\n",
       "  </thead>\n",
       "  <tbody>\n",
       "    <tr>\n",
       "      <th>count</th>\n",
       "      <td>418.000000</td>\n",
       "      <td>418.000000</td>\n",
       "      <td>418.000000</td>\n",
       "      <td>332.000000</td>\n",
       "      <td>418.000000</td>\n",
       "      <td>418.000000</td>\n",
       "      <td>417.000000</td>\n",
       "    </tr>\n",
       "    <tr>\n",
       "      <th>mean</th>\n",
       "      <td>1100.500000</td>\n",
       "      <td>0.363636</td>\n",
       "      <td>2.265550</td>\n",
       "      <td>30.272590</td>\n",
       "      <td>0.447368</td>\n",
       "      <td>0.392344</td>\n",
       "      <td>35.627188</td>\n",
       "    </tr>\n",
       "    <tr>\n",
       "      <th>std</th>\n",
       "      <td>120.810458</td>\n",
       "      <td>0.481622</td>\n",
       "      <td>0.841838</td>\n",
       "      <td>14.181209</td>\n",
       "      <td>0.896760</td>\n",
       "      <td>0.981429</td>\n",
       "      <td>55.907576</td>\n",
       "    </tr>\n",
       "    <tr>\n",
       "      <th>min</th>\n",
       "      <td>892.000000</td>\n",
       "      <td>0.000000</td>\n",
       "      <td>1.000000</td>\n",
       "      <td>0.170000</td>\n",
       "      <td>0.000000</td>\n",
       "      <td>0.000000</td>\n",
       "      <td>0.000000</td>\n",
       "    </tr>\n",
       "    <tr>\n",
       "      <th>25%</th>\n",
       "      <td>996.250000</td>\n",
       "      <td>0.000000</td>\n",
       "      <td>1.000000</td>\n",
       "      <td>21.000000</td>\n",
       "      <td>0.000000</td>\n",
       "      <td>0.000000</td>\n",
       "      <td>7.895800</td>\n",
       "    </tr>\n",
       "    <tr>\n",
       "      <th>50%</th>\n",
       "      <td>1100.500000</td>\n",
       "      <td>0.000000</td>\n",
       "      <td>3.000000</td>\n",
       "      <td>27.000000</td>\n",
       "      <td>0.000000</td>\n",
       "      <td>0.000000</td>\n",
       "      <td>14.454200</td>\n",
       "    </tr>\n",
       "    <tr>\n",
       "      <th>75%</th>\n",
       "      <td>1204.750000</td>\n",
       "      <td>1.000000</td>\n",
       "      <td>3.000000</td>\n",
       "      <td>39.000000</td>\n",
       "      <td>1.000000</td>\n",
       "      <td>0.000000</td>\n",
       "      <td>31.500000</td>\n",
       "    </tr>\n",
       "    <tr>\n",
       "      <th>max</th>\n",
       "      <td>1309.000000</td>\n",
       "      <td>1.000000</td>\n",
       "      <td>3.000000</td>\n",
       "      <td>76.000000</td>\n",
       "      <td>8.000000</td>\n",
       "      <td>9.000000</td>\n",
       "      <td>512.329200</td>\n",
       "    </tr>\n",
       "  </tbody>\n",
       "</table>\n",
       "</div>"
      ],
      "text/plain": [
       "       PassengerId    Survived      Pclass         Age       SibSp  \\\n",
       "count   418.000000  418.000000  418.000000  332.000000  418.000000   \n",
       "mean   1100.500000    0.363636    2.265550   30.272590    0.447368   \n",
       "std     120.810458    0.481622    0.841838   14.181209    0.896760   \n",
       "min     892.000000    0.000000    1.000000    0.170000    0.000000   \n",
       "25%     996.250000    0.000000    1.000000   21.000000    0.000000   \n",
       "50%    1100.500000    0.000000    3.000000   27.000000    0.000000   \n",
       "75%    1204.750000    1.000000    3.000000   39.000000    1.000000   \n",
       "max    1309.000000    1.000000    3.000000   76.000000    8.000000   \n",
       "\n",
       "            Parch        Fare  \n",
       "count  418.000000  417.000000  \n",
       "mean     0.392344   35.627188  \n",
       "std      0.981429   55.907576  \n",
       "min      0.000000    0.000000  \n",
       "25%      0.000000    7.895800  \n",
       "50%      0.000000   14.454200  \n",
       "75%      0.000000   31.500000  \n",
       "max      9.000000  512.329200  "
      ]
     },
     "execution_count": 4,
     "metadata": {},
     "output_type": "execute_result"
    }
   ],
   "source": [
    "# Displaying statistical summary\n",
    "titanic_data.describe()"
   ]
  },
  {
   "cell_type": "code",
   "execution_count": 5,
   "id": "f73c72a3",
   "metadata": {},
   "outputs": [
    {
     "data": {
      "text/plain": [
       "PassengerId      0\n",
       "Survived         0\n",
       "Pclass           0\n",
       "Name             0\n",
       "Sex              0\n",
       "Age             86\n",
       "SibSp            0\n",
       "Parch            0\n",
       "Ticket           0\n",
       "Fare             1\n",
       "Cabin          327\n",
       "Embarked         0\n",
       "dtype: int64"
      ]
     },
     "execution_count": 5,
     "metadata": {},
     "output_type": "execute_result"
    }
   ],
   "source": [
    "# Checking for missing data in each column\n",
    "titanic_data.isnull().sum()"
   ]
  },
  {
   "cell_type": "code",
   "execution_count": 6,
   "id": "7014b429",
   "metadata": {},
   "outputs": [
    {
     "name": "stderr",
     "output_type": "stream",
     "text": [
      "C:\\Users\\ghosh\\AppData\\Local\\Temp\\ipykernel_20388\\3515549757.py:2: FutureWarning: A value is trying to be set on a copy of a DataFrame or Series through chained assignment using an inplace method.\n",
      "The behavior will change in pandas 3.0. This inplace method will never work because the intermediate object on which we are setting values always behaves as a copy.\n",
      "\n",
      "For example, when doing 'df[col].method(value, inplace=True)', try using 'df.method({col: value}, inplace=True)' or df[col] = df[col].method(value) instead, to perform the operation inplace on the original object.\n",
      "\n",
      "\n",
      "  titanic_data['Age'].fillna(titanic_data['Age'].median(), inplace=True)\n"
     ]
    }
   ],
   "source": [
    "# Fill missing Age values \n",
    "titanic_data['Age'].fillna(titanic_data['Age'].median(), inplace=True)"
   ]
  },
  {
   "cell_type": "code",
   "execution_count": 7,
   "id": "c27ae787",
   "metadata": {},
   "outputs": [
    {
     "name": "stderr",
     "output_type": "stream",
     "text": [
      "C:\\Users\\ghosh\\AppData\\Local\\Temp\\ipykernel_20388\\1491056039.py:2: FutureWarning: A value is trying to be set on a copy of a DataFrame or Series through chained assignment using an inplace method.\n",
      "The behavior will change in pandas 3.0. This inplace method will never work because the intermediate object on which we are setting values always behaves as a copy.\n",
      "\n",
      "For example, when doing 'df[col].method(value, inplace=True)', try using 'df.method({col: value}, inplace=True)' or df[col] = df[col].method(value) instead, to perform the operation inplace on the original object.\n",
      "\n",
      "\n",
      "  titanic_data['Embarked'].fillna(titanic_data['Embarked'].mode()[0], inplace=True)\n"
     ]
    }
   ],
   "source": [
    "# Fill missing Embarked values with the most common value\n",
    "titanic_data['Embarked'].fillna(titanic_data['Embarked'].mode()[0], inplace=True)"
   ]
  },
  {
   "cell_type": "code",
   "execution_count": 8,
   "id": "2efc727c",
   "metadata": {},
   "outputs": [],
   "source": [
    "# Drop rows with missing 'Fare' values \n",
    "titanic_data.dropna(subset=['Fare'], inplace=True)"
   ]
  },
  {
   "cell_type": "code",
   "execution_count": 9,
   "id": "379ab1dd",
   "metadata": {},
   "outputs": [],
   "source": [
    "# Drop columns that aren't useful (like PassengerId, Name, etc.)\n",
    "titanic_data.drop(columns=['PassengerId', 'Ticket', 'Cabin'], inplace=True)"
   ]
  },
  {
   "cell_type": "code",
   "execution_count": 10,
   "id": "a75b1034",
   "metadata": {},
   "outputs": [],
   "source": [
    "#Step 5: Analyze Passenger Data\n",
    "# Group data by gender and calculate survival rate\n",
    "# survival_rate_by_gender = titanic_data.groupby('Sex')['Survived'].mean() * 100\n",
    "# survival_rate_by_gender"
   ]
  },
  {
   "cell_type": "markdown",
   "id": "4062cc39",
   "metadata": {},
   "source": [
    "\n",
    "## Data Cleaning Explanation\n",
    "In this step, we handle missing values for the Age, Cabin, and Embarked columns. \n",
    "- **Age**: Imputed using the median age, which is a robust choice for missing numerical values.\n",
    "- **Cabin**: This column has a large number of missing values, so it will be dropped.\n",
    "- **Embarked**: Missing values will be filled with the mode, as it is the most frequent value.\n"
   ]
  },
  {
   "cell_type": "code",
   "execution_count": 11,
   "id": "4f2a3d3d",
   "metadata": {},
   "outputs": [
    {
     "name": "stdout",
     "output_type": "stream",
     "text": [
      "417\n"
     ]
    }
   ],
   "source": [
    "print(len(titanic_data))"
   ]
  },
  {
   "cell_type": "code",
   "execution_count": 12,
   "id": "0a6c904a",
   "metadata": {},
   "outputs": [],
   "source": [
    "c=0\n",
    "t=0\n",
    "for i in range(len(titanic_data)):\n",
    "    if titanic_data['Sex'].iloc[i]=='male':\n",
    "       c+=1\n",
    "    else:\n",
    "        t+=1"
   ]
  },
  {
   "cell_type": "code",
   "execution_count": 13,
   "id": "813e1f34",
   "metadata": {},
   "outputs": [
    {
     "name": "stdout",
     "output_type": "stream",
     "text": [
      "Total no of male is: 265\n",
      "Total no of female is: 152\n"
     ]
    }
   ],
   "source": [
    "#Total male & female\n",
    "print(\"Total no of male is:\",c)\n",
    "print(\"Total no of female is:\",t)"
   ]
  },
  {
   "cell_type": "code",
   "execution_count": 14,
   "id": "44b88b25",
   "metadata": {},
   "outputs": [],
   "source": [
    "c1=(c*100)/(c+t)\n",
    "t1=(t*100)/(c+t)"
   ]
  },
  {
   "cell_type": "code",
   "execution_count": 15,
   "id": "c60bbae2",
   "metadata": {},
   "outputs": [
    {
     "name": "stdout",
     "output_type": "stream",
     "text": [
      "Percentage of male is:63.55%\n",
      "Percentage of female is:36.45%\n"
     ]
    }
   ],
   "source": [
    "#percentage of male & female\n",
    "print(f\"Percentage of male is:{c1:.2f}%\")\n",
    "print(f\"Percentage of female is:{t1:.2f}%\")"
   ]
  },
  {
   "cell_type": "code",
   "execution_count": 16,
   "id": "654a9e93",
   "metadata": {},
   "outputs": [],
   "source": [
    "s1=0\n",
    "s2=0\n",
    "\n",
    "for i in range(c):\n",
    "    if titanic_data['Survived'].iloc[i]==1:\n",
    "        s1+=1\n",
    "    else:\n",
    "        s2+=1"
   ]
  },
  {
   "cell_type": "code",
   "execution_count": 17,
   "id": "a4391fa8",
   "metadata": {},
   "outputs": [
    {
     "name": "stdout",
     "output_type": "stream",
     "text": [
      "Total no of male who alived: 100\n",
      "Total no of male who are dead: 165\n"
     ]
    }
   ],
   "source": [
    "#alive male\n",
    "print(\"Total no of male who alived:\",s1)\n",
    "print(\"Total no of male who are dead:\",s2)"
   ]
  },
  {
   "cell_type": "code",
   "execution_count": 18,
   "id": "59b85443",
   "metadata": {},
   "outputs": [],
   "source": [
    "s11=(s1*100)/(s1+s2)\n",
    "s22=(s2*100)/(s1+s2)"
   ]
  },
  {
   "cell_type": "markdown",
   "id": "5c5aa931",
   "metadata": {},
   "source": [
    "\n",
    "## Additional Visualizations\n",
    "Visualizing the distribution of fares and ages using box plots to detect outliers.\n"
   ]
  },
  {
   "cell_type": "code",
   "execution_count": 19,
   "id": "7a8c6737",
   "metadata": {},
   "outputs": [
    {
     "data": {
      "image/png": "[encoded data removed]",
      "text/plain": [
       "<Figure size 800x600 with 1 Axes>"
      ]
     },
     "metadata": {},
     "output_type": "display_data"
    },
    {
     "data": {
      "image/png": "[encoded data removed]",
      "text/plain": [
       "<Figure size 800x600 with 1 Axes>"
      ]
     },
     "metadata": {},
     "output_type": "display_data"
    }
   ],
   "source": [
    "import seaborn as sns\n",
    "import matplotlib.pyplot as plt\n",
    "\n",
    "# Box plot for Fare\n",
    "plt.figure(figsize=(8, 6))\n",
    "sns.boxplot(x='Survived', y='Fare', data=titanic_data)\n",
    "plt.title('Box Plot of Fare vs. Survival')\n",
    "plt.show()\n",
    "\n",
    "# Box plot for Age\n",
    "plt.figure(figsize=(8, 6))\n",
    "sns.boxplot(x='Survived', y='Age', data=titanic_data)\n",
    "plt.title('Box Plot of Age vs. Survival')\n",
    "plt.show()\n"
   ]
  },
  {
   "cell_type": "code",
   "execution_count": 20,
   "id": "07b04fc4",
   "metadata": {},
   "outputs": [
    {
     "name": "stdout",
     "output_type": "stream",
     "text": [
      "Percentage of male who alived:37.74%\n",
      "Percentage of male who are dead:62.26%\n"
     ]
    }
   ],
   "source": [
    "print(f\"Percentage of male who alived:{s11:.2f}%\")\n",
    "print(f\"Percentage of male who are dead:{s22:.2f}%\")"
   ]
  },
  {
   "cell_type": "code",
   "execution_count": 21,
   "id": "39ad2e8c",
   "metadata": {},
   "outputs": [],
   "source": [
    "d1=0\n",
    "d2=0\n",
    "\n",
    "for i in range(t):\n",
    "    if titanic_data['Survived'].iloc[i]==1:\n",
    "        d1+=1\n",
    "    else:\n",
    "        d2+=1"
   ]
  },
  {
   "cell_type": "code",
   "execution_count": 22,
   "id": "564f2371",
   "metadata": {},
   "outputs": [
    {
     "name": "stdout",
     "output_type": "stream",
     "text": [
      "Total no of female who alived: 56\n",
      "Total no of female who are dead: 96\n"
     ]
    }
   ],
   "source": [
    "print(\"Total no of female who alived:\",d1)\n",
    "print(\"Total no of female who are dead:\",d2)"
   ]
  },
  {
   "cell_type": "code",
   "execution_count": 23,
   "id": "263f3c31",
   "metadata": {},
   "outputs": [],
   "source": [
    "d11=(d1*100)/(d1+d2)\n",
    "d22=(d2*100)/(d1+d2)"
   ]
  },
  {
   "cell_type": "code",
   "execution_count": 24,
   "id": "11b555d8",
   "metadata": {},
   "outputs": [
    {
     "name": "stdout",
     "output_type": "stream",
     "text": [
      "Percentage of female who alived:36.84%\n",
      "Percentage of female who are dead:63.16%\n"
     ]
    }
   ],
   "source": [
    "print(f\"Percentage of female who alived:{d11:.2f}%\")\n",
    "print(f\"Percentage of female who are dead:{d22:.2f}%\")"
   ]
  },
  {
   "cell_type": "code",
   "execution_count": 25,
   "id": "fd22ab4b",
   "metadata": {},
   "outputs": [],
   "source": [
    "f1=(s1*100)/len(titanic_data)\n",
    "f2=(s2*100)/len(titanic_data)"
   ]
  },
  {
   "cell_type": "markdown",
   "id": "bed18b41",
   "metadata": {},
   "source": [
    "\n",
    "## Improved Model Evaluation\n",
    "Using cross-validation to ensure more robust model evaluation.\n"
   ]
  },
  {
   "cell_type": "code",
   "execution_count": 26,
   "id": "15cf745b",
   "metadata": {},
   "outputs": [
    {
     "name": "stdout",
     "output_type": "stream",
     "text": [
      "Cross-Validation Accuracy Scores: [0.6119403  0.62686567 0.6119403  0.60606061 0.66666667]\n",
      "Mean Accuracy: 0.6246947082767977\n"
     ]
    }
   ],
   "source": [
    "\n",
    "from sklearn.linear_model import LogisticRegression\n",
    "from sklearn.model_selection import cross_val_score\n",
    "from sklearn.model_selection import train_test_split\n",
    "\n",
    "# Define features and target variable\n",
    "X = titanic_data.drop(columns=['Survived', 'Name', 'Sex', 'Embarked'])  # Drop non-numeric and target columns\n",
    "y = titanic_data['Survived']\n",
    "\n",
    "# Split the data into training and testing sets\n",
    "X_train, X_test, y_train, y_test = train_test_split(X, y, test_size=0.2, random_state=42)\n",
    "\n",
    "# Perform cross-validation\n",
    "model = LogisticRegression()\n",
    "scores = cross_val_score(model, X_train, y_train, cv=5, scoring='accuracy')\n",
    "print(f\"Cross-Validation Accuracy Scores: {scores}\")\n",
    "print(f\"Mean Accuracy: {scores.mean()}\")\n"
   ]
  },
  {
   "cell_type": "code",
   "execution_count": 27,
   "id": "13ec270b",
   "metadata": {},
   "outputs": [
    {
     "name": "stdout",
     "output_type": "stream",
     "text": [
      "Percentage of male who alived overall dataset:23.98%\n",
      "Percentage of male who are dead overall dataset:39.57%\n"
     ]
    }
   ],
   "source": [
    "print(f\"Percentage of male who alived overall dataset:{f1:.2f}%\")\n",
    "print(f\"Percentage of male who are dead overall dataset:{f2:.2f}%\")"
   ]
  },
  {
   "cell_type": "code",
   "execution_count": 28,
   "id": "f645831f",
   "metadata": {},
   "outputs": [],
   "source": [
    "p1=(d1*100)/len(titanic_data)\n",
    "p2=(d2*100)/len(titanic_data)"
   ]
  },
  {
   "cell_type": "code",
   "execution_count": 29,
   "id": "be388b9b",
   "metadata": {},
   "outputs": [
    {
     "name": "stdout",
     "output_type": "stream",
     "text": [
      "Percentage of female who alived overall dataset:13.43%\n",
      "Percentage of female who are dead overall dataset:23.02%\n"
     ]
    }
   ],
   "source": [
    "print(f\"Percentage of female who alived overall dataset:{p1:.2f}%\")\n",
    "print(f\"Percentage of female who are dead overall dataset:{p2:.2f}%\")"
   ]
  },
  {
   "cell_type": "code",
   "execution_count": 30,
   "id": "3783f512",
   "metadata": {},
   "outputs": [
    {
     "data": {
      "text/plain": [
       "'Average Fare: 35.627188489208635'"
      ]
     },
     "execution_count": 30,
     "metadata": {},
     "output_type": "execute_result"
    }
   ],
   "source": [
    "# Step 6: Calculate Fare Statistics\n",
    "average_fare = titanic_data['Fare'].mean()\n",
    "(f\"Average Fare: {average_fare}\")"
   ]
  },
  {
   "cell_type": "code",
   "execution_count": 31,
   "id": "ba4b68fc",
   "metadata": {},
   "outputs": [
    {
     "data": {
      "text/plain": [
       "'Minimum Fare: 0.0'"
      ]
     },
     "execution_count": 31,
     "metadata": {},
     "output_type": "execute_result"
    }
   ],
   "source": [
    "min_fare = titanic_data['Fare'].min()\n",
    "(f\"Minimum Fare: {min_fare}\")"
   ]
  },
  {
   "cell_type": "code",
   "execution_count": 32,
   "id": "d920431c",
   "metadata": {},
   "outputs": [
    {
     "data": {
      "text/plain": [
       "'Maximum Fare: 512.3292'"
      ]
     },
     "execution_count": 32,
     "metadata": {},
     "output_type": "execute_result"
    }
   ],
   "source": [
    "max_fare = titanic_data['Fare'].max()\n",
    "(f\"Maximum Fare: {max_fare}\")"
   ]
  },
  {
   "cell_type": "code",
   "execution_count": 33,
   "id": "9efcdf4f",
   "metadata": {},
   "outputs": [],
   "source": [
    "# Step 7: Find Correlation\n",
    "numeric_data = titanic_data.select_dtypes(include=[np.number])"
   ]
  },
  {
   "cell_type": "code",
   "execution_count": 34,
   "id": "0c2bf81e",
   "metadata": {},
   "outputs": [],
   "source": [
    "# Find the correlation matrix\n",
    "correlation_matrix = numeric_data.corr()"
   ]
  },
  {
   "cell_type": "code",
   "execution_count": 35,
   "id": "b4b5f7f9",
   "metadata": {},
   "outputs": [
    {
     "data": {
      "text/html": [
       "<div>\n",
       "<style scoped>\n",
       "    .dataframe tbody tr th:only-of-type {\n",
       "        vertical-align: middle;\n",
       "    }\n",
       "\n",
       "    .dataframe tbody tr th {\n",
       "        vertical-align: top;\n",
       "    }\n",
       "\n",
       "    .dataframe thead th {\n",
       "        text-align: right;\n",
       "    }\n",
       "</style>\n",
       "<table border=\"1\" class=\"dataframe\">\n",
       "  <thead>\n",
       "    <tr style=\"text-align: right;\">\n",
       "      <th></th>\n",
       "      <th>Survived</th>\n",
       "      <th>Pclass</th>\n",
       "      <th>Age</th>\n",
       "      <th>SibSp</th>\n",
       "      <th>Parch</th>\n",
       "      <th>Fare</th>\n",
       "    </tr>\n",
       "  </thead>\n",
       "  <tbody>\n",
       "    <tr>\n",
       "      <th>Survived</th>\n",
       "      <td>1.000000</td>\n",
       "      <td>-0.107203</td>\n",
       "      <td>0.012547</td>\n",
       "      <td>0.099136</td>\n",
       "      <td>0.158534</td>\n",
       "      <td>0.191514</td>\n",
       "    </tr>\n",
       "    <tr>\n",
       "      <th>Pclass</th>\n",
       "      <td>-0.107203</td>\n",
       "      <td>1.000000</td>\n",
       "      <td>-0.476790</td>\n",
       "      <td>0.002136</td>\n",
       "      <td>0.019581</td>\n",
       "      <td>-0.577147</td>\n",
       "    </tr>\n",
       "    <tr>\n",
       "      <th>Age</th>\n",
       "      <td>0.012547</td>\n",
       "      <td>-0.476790</td>\n",
       "      <td>1.000000</td>\n",
       "      <td>-0.068791</td>\n",
       "      <td>-0.041699</td>\n",
       "      <td>0.347105</td>\n",
       "    </tr>\n",
       "    <tr>\n",
       "      <th>SibSp</th>\n",
       "      <td>0.099136</td>\n",
       "      <td>0.002136</td>\n",
       "      <td>-0.068791</td>\n",
       "      <td>1.000000</td>\n",
       "      <td>0.306566</td>\n",
       "      <td>0.171539</td>\n",
       "    </tr>\n",
       "    <tr>\n",
       "      <th>Parch</th>\n",
       "      <td>0.158534</td>\n",
       "      <td>0.019581</td>\n",
       "      <td>-0.041699</td>\n",
       "      <td>0.306566</td>\n",
       "      <td>1.000000</td>\n",
       "      <td>0.230046</td>\n",
       "    </tr>\n",
       "    <tr>\n",
       "      <th>Fare</th>\n",
       "      <td>0.191514</td>\n",
       "      <td>-0.577147</td>\n",
       "      <td>0.347105</td>\n",
       "      <td>0.171539</td>\n",
       "      <td>0.230046</td>\n",
       "      <td>1.000000</td>\n",
       "    </tr>\n",
       "  </tbody>\n",
       "</table>\n",
       "</div>"
      ],
      "text/plain": [
       "          Survived    Pclass       Age     SibSp     Parch      Fare\n",
       "Survived  1.000000 -0.107203  0.012547  0.099136  0.158534  0.191514\n",
       "Pclass   -0.107203  1.000000 -0.476790  0.002136  0.019581 -0.577147\n",
       "Age       0.012547 -0.476790  1.000000 -0.068791 -0.041699  0.347105\n",
       "SibSp     0.099136  0.002136 -0.068791  1.000000  0.306566  0.171539\n",
       "Parch     0.158534  0.019581 -0.041699  0.306566  1.000000  0.230046\n",
       "Fare      0.191514 -0.577147  0.347105  0.171539  0.230046  1.000000"
      ]
     },
     "execution_count": 35,
     "metadata": {},
     "output_type": "execute_result"
    }
   ],
   "source": [
    "# Print the correlation matrix\n",
    "correlation_matrix"
   ]
  },
  {
   "cell_type": "code",
   "execution_count": 36,
   "id": "1caaba43",
   "metadata": {},
   "outputs": [
    {
     "data": {
      "text/plain": [
       "Pclass\n",
       "1    46.728972\n",
       "2    32.258065\n",
       "3    33.179724\n",
       "Name: Survived, dtype: float64"
      ]
     },
     "execution_count": 36,
     "metadata": {},
     "output_type": "execute_result"
    }
   ],
   "source": [
    "survival_rate_by_class = titanic_data.groupby('Pclass')['Survived'].mean() * 100\n",
    "survival_rate_by_class"
   ]
  },
  {
   "cell_type": "code",
   "execution_count": 37,
   "id": "3eacca1d",
   "metadata": {},
   "outputs": [],
   "source": [
    "# Step 9: Save the Cleaned Data\n",
    "# Save the cleaned dataset to a new CSV file\n",
    "titanic_data.to_csv('cleaned_titanic_data.csv', index=False)"
   ]
  },
  {
   "cell_type": "code",
   "execution_count": 38,
   "id": "38ce8512",
   "metadata": {},
   "outputs": [
    {
     "data": {
      "image/png": "[encoded data removed]",
      "text/plain": [
       "<Figure size 1200x600 with 1 Axes>"
      ]
     },
     "metadata": {},
     "output_type": "display_data"
    }
   ],
   "source": [
    "# Analyzing passenger distribution using count\n",
    "plt.figure(figsize=(12, 6))\n",
    "titanic_data['Sex'].value_counts().plot(kind='bar', color=['skyblue', 'pink'])\n",
    "plt.title('Number of Passengers(Male & Female)')\n",
    "plt.xlabel('Gender')\n",
    "plt.ylabel('Count')\n",
    "plt.show()"
   ]
  },
  {
   "cell_type": "code",
   "execution_count": 39,
   "id": "ffbdb6b2",
   "metadata": {},
   "outputs": [
    {
     "data": {
      "image/png": "[encoded data removed]",
      "text/plain": [
       "<Figure size 1200x600 with 1 Axes>"
      ]
     },
     "metadata": {},
     "output_type": "display_data"
    }
   ],
   "source": [
    "# Analyzing survival counts using pie chart\n",
    "plt.figure(figsize=(12, 6))\n",
    "titanic_data['Survived'].value_counts().plot(kind='pie', autopct='%1.1f%%', startangle=90, colors=['red', 'skyblue'])\n",
    "plt.title('Survival')\n",
    "plt.ylabel('')\n",
    "plt.show()"
   ]
  },
  {
   "cell_type": "code",
   "execution_count": 40,
   "id": "0f1dac66",
   "metadata": {},
   "outputs": [
    {
     "data": {
      "image/png": "[encoded data removed]",
      "text/plain": [
       "<Figure size 1200x600 with 1 Axes>"
      ]
     },
     "metadata": {},
     "output_type": "display_data"
    }
   ],
   "source": [
    "plt.figure(figsize=(12, 6))\n",
    "plt.hist(titanic_data['Age'].dropna(), bins=20, color='yellow', edgecolor='black')\n",
    "plt.title('Ages')\n",
    "plt.xlabel('Age')\n",
    "plt.ylabel('Number of Passengers')\n",
    "plt.show()"
   ]
  },
  {
   "cell_type": "code",
   "execution_count": 41,
   "id": "0cd5c622",
   "metadata": {},
   "outputs": [
    {
     "data": {
      "text/plain": [
       "<Figure size 1200x600 with 0 Axes>"
      ]
     },
     "metadata": {},
     "output_type": "display_data"
    },
    {
     "data": {
      "image/png": "[encoded data removed]",
      "text/plain": [
       "<Figure size 640x480 with 1 Axes>"
      ]
     },
     "metadata": {},
     "output_type": "display_data"
    }
   ],
   "source": [
    "plt.figure(figsize=(12, 6))\n",
    "titanic_data.boxplot(column='Fare', by='Pclass', grid=False, showfliers=False, patch_artist=True)\n",
    "plt.title('Fare Prices by PClass')\n",
    "plt.xlabel('Passenger Class')\n",
    "plt.ylabel('Fare')\n",
    "plt.show()"
   ]
  },
  {
   "cell_type": "code",
   "execution_count": 42,
   "id": "a09312e1",
   "metadata": {},
   "outputs": [
    {
     "data": {
      "image/png": "[encoded data removed]",
      "text/plain": [
       "<Figure size 1200x600 with 1 Axes>"
      ]
     },
     "metadata": {},
     "output_type": "display_data"
    }
   ],
   "source": [
    "plt.figure(figsize=(12, 6))\n",
    "titanic_data['Sex'].value_counts().plot(kind='bar', color=['blue', 'pink'])\n",
    "plt.title('Survival Rate by Gender')\n",
    "plt.xlabel('Gender')\n",
    "plt.ylabel('Survival Rate')\n",
    "plt.show()"
   ]
  },
  {
   "cell_type": "code",
   "execution_count": 43,
   "id": "0a4b86e1",
   "metadata": {},
   "outputs": [
    {
     "data": {
      "image/png": "[encoded data removed]",
      "text/plain": [
       "<Figure size 1200x600 with 1 Axes>"
      ]
     },
     "metadata": {},
     "output_type": "display_data"
    }
   ],
   "source": [
    "plt.figure(figsize=(12, 6))\n",
    "titanic_data.groupby('Pclass')['Survived'].sum().plot(kind='bar', color=['green', 'blue', 'yellow'])\n",
    "plt.title('Number of Survivors by PClass')\n",
    "plt.xlabel('Passenger Class')\n",
    "plt.ylabel('Number of Survivors')\n",
    "plt.show()"
   ]
  },
  {
   "cell_type": "code",
   "execution_count": 44,
   "id": "2e1cbdf5",
   "metadata": {},
   "outputs": [
    {
     "data": {
      "image/png": "[encoded data removed]",
      "text/plain": [
       "<Figure size 1200x600 with 1 Axes>"
      ]
     },
     "metadata": {},
     "output_type": "display_data"
    }
   ],
   "source": [
    "plt.figure(figsize=(12, 6))\n",
    "plt.scatter(titanic_data['Age'], titanic_data['Fare'], color='blue', alpha=0.5)\n",
    "plt.title('Relationship between Fare and Age of Passengers')\n",
    "plt.xlabel('Age')\n",
    "plt.ylabel('Fare')\n",
    "plt.show()"
   ]
  },
  {
   "cell_type": "code",
   "execution_count": 45,
   "id": "e58959b3",
   "metadata": {},
   "outputs": [],
   "source": [
    "titanic_data['total_Family'] = titanic_data['SibSp'] + titanic_data['Parch'] + 1"
   ]
  },
  {
   "cell_type": "code",
   "execution_count": 46,
   "id": "4360d451",
   "metadata": {},
   "outputs": [],
   "source": [
    "titanic_data['Fare_Per_Person'] = titanic_data['Fare'] / titanic_data['total_Family']"
   ]
  },
  {
   "cell_type": "code",
   "execution_count": 47,
   "id": "3a34b81b",
   "metadata": {},
   "outputs": [
    {
     "data": {
      "text/html": [
       "<div>\n",
       "<style scoped>\n",
       "    .dataframe tbody tr th:only-of-type {\n",
       "        vertical-align: middle;\n",
       "    }\n",
       "\n",
       "    .dataframe tbody tr th {\n",
       "        vertical-align: top;\n",
       "    }\n",
       "\n",
       "    .dataframe thead th {\n",
       "        text-align: right;\n",
       "    }\n",
       "</style>\n",
       "<table border=\"1\" class=\"dataframe\">\n",
       "  <thead>\n",
       "    <tr style=\"text-align: right;\">\n",
       "      <th></th>\n",
       "      <th>Fare</th>\n",
       "      <th>SibSp</th>\n",
       "      <th>Parch</th>\n",
       "      <th>Fare_Per_Person</th>\n",
       "    </tr>\n",
       "  </thead>\n",
       "  <tbody>\n",
       "    <tr>\n",
       "      <th>0</th>\n",
       "      <td>7.8292</td>\n",
       "      <td>0</td>\n",
       "      <td>0</td>\n",
       "      <td>7.829200</td>\n",
       "    </tr>\n",
       "    <tr>\n",
       "      <th>1</th>\n",
       "      <td>7.0000</td>\n",
       "      <td>1</td>\n",
       "      <td>0</td>\n",
       "      <td>3.500000</td>\n",
       "    </tr>\n",
       "    <tr>\n",
       "      <th>2</th>\n",
       "      <td>9.6875</td>\n",
       "      <td>0</td>\n",
       "      <td>0</td>\n",
       "      <td>9.687500</td>\n",
       "    </tr>\n",
       "    <tr>\n",
       "      <th>3</th>\n",
       "      <td>8.6625</td>\n",
       "      <td>0</td>\n",
       "      <td>0</td>\n",
       "      <td>8.662500</td>\n",
       "    </tr>\n",
       "    <tr>\n",
       "      <th>4</th>\n",
       "      <td>12.2875</td>\n",
       "      <td>1</td>\n",
       "      <td>1</td>\n",
       "      <td>4.095833</td>\n",
       "    </tr>\n",
       "  </tbody>\n",
       "</table>\n",
       "</div>"
      ],
      "text/plain": [
       "      Fare  SibSp  Parch  Fare_Per_Person\n",
       "0   7.8292      0      0         7.829200\n",
       "1   7.0000      1      0         3.500000\n",
       "2   9.6875      0      0         9.687500\n",
       "3   8.6625      0      0         8.662500\n",
       "4  12.2875      1      1         4.095833"
      ]
     },
     "execution_count": 47,
     "metadata": {},
     "output_type": "execute_result"
    }
   ],
   "source": [
    "titanic_data[['Fare', 'SibSp', 'Parch', 'Fare_Per_Person']].head()"
   ]
  },
  {
   "cell_type": "code",
   "execution_count": 48,
   "id": "471e26e6",
   "metadata": {},
   "outputs": [],
   "source": [
    "titanic_data['alone_passenger'] = (titanic_data['SibSp'] == 0) & (titanic_data['Parch'] == 0)"
   ]
  },
  {
   "cell_type": "code",
   "execution_count": 49,
   "id": "d37c7ce2",
   "metadata": {},
   "outputs": [
    {
     "data": {
      "text/plain": [
       "alone_passenger\n",
       "False    50.909091\n",
       "True     26.984127\n",
       "Name: Survived, dtype: float64"
      ]
     },
     "execution_count": 49,
     "metadata": {},
     "output_type": "execute_result"
    }
   ],
   "source": [
    "survival_rate = titanic_data.groupby('alone_passenger')['Survived'].mean() * 100\n",
    "survival_rate"
   ]
  },
  {
   "cell_type": "code",
   "execution_count": 50,
   "id": "559c555c",
   "metadata": {},
   "outputs": [
    {
     "data": {
      "text/html": [
       "<div>\n",
       "<style scoped>\n",
       "    .dataframe tbody tr th:only-of-type {\n",
       "        vertical-align: middle;\n",
       "    }\n",
       "\n",
       "    .dataframe tbody tr th {\n",
       "        vertical-align: top;\n",
       "    }\n",
       "\n",
       "    .dataframe thead th {\n",
       "        text-align: right;\n",
       "    }\n",
       "</style>\n",
       "<table border=\"1\" class=\"dataframe\">\n",
       "  <thead>\n",
       "    <tr style=\"text-align: right;\">\n",
       "      <th></th>\n",
       "      <th>SibSp</th>\n",
       "      <th>Parch</th>\n",
       "      <th>alone_passenger</th>\n",
       "      <th>Survived</th>\n",
       "    </tr>\n",
       "  </thead>\n",
       "  <tbody>\n",
       "    <tr>\n",
       "      <th>0</th>\n",
       "      <td>0</td>\n",
       "      <td>0</td>\n",
       "      <td>True</td>\n",
       "      <td>0</td>\n",
       "    </tr>\n",
       "    <tr>\n",
       "      <th>1</th>\n",
       "      <td>1</td>\n",
       "      <td>0</td>\n",
       "      <td>False</td>\n",
       "      <td>1</td>\n",
       "    </tr>\n",
       "    <tr>\n",
       "      <th>2</th>\n",
       "      <td>0</td>\n",
       "      <td>0</td>\n",
       "      <td>True</td>\n",
       "      <td>0</td>\n",
       "    </tr>\n",
       "    <tr>\n",
       "      <th>3</th>\n",
       "      <td>0</td>\n",
       "      <td>0</td>\n",
       "      <td>True</td>\n",
       "      <td>0</td>\n",
       "    </tr>\n",
       "    <tr>\n",
       "      <th>4</th>\n",
       "      <td>1</td>\n",
       "      <td>1</td>\n",
       "      <td>False</td>\n",
       "      <td>1</td>\n",
       "    </tr>\n",
       "  </tbody>\n",
       "</table>\n",
       "</div>"
      ],
      "text/plain": [
       "   SibSp  Parch  alone_passenger  Survived\n",
       "0      0      0             True         0\n",
       "1      1      0            False         1\n",
       "2      0      0             True         0\n",
       "3      0      0             True         0\n",
       "4      1      1            False         1"
      ]
     },
     "execution_count": 50,
     "metadata": {},
     "output_type": "execute_result"
    }
   ],
   "source": [
    "titanic_data[['SibSp', 'Parch', 'alone_passenger', 'Survived']].head()"
   ]
  },
  {
   "cell_type": "code",
   "execution_count": 51,
   "id": "7bf61964",
   "metadata": {},
   "outputs": [],
   "source": [
    "#optional\n",
    "titanic_data['alone_passenger'] = np.where(titanic_data['total_Family'] == 1, 1, 0)"
   ]
  },
  {
   "cell_type": "code",
   "execution_count": 52,
   "id": "6c9239b4",
   "metadata": {},
   "outputs": [
    {
     "data": {
      "text/plain": [
       "alone_passenger\n",
       "0    50.909091\n",
       "1    26.984127\n",
       "Name: Survived, dtype: float64"
      ]
     },
     "execution_count": 52,
     "metadata": {},
     "output_type": "execute_result"
    }
   ],
   "source": [
    "#optional\n",
    "survival_rate = titanic_data.groupby('alone_passenger')['Survived'].mean() * 100\n",
    "survival_rate"
   ]
  },
  {
   "cell_type": "code",
   "execution_count": 53,
   "id": "e007bab7",
   "metadata": {},
   "outputs": [
    {
     "data": {
      "text/plain": [
       "512.3292"
      ]
     },
     "execution_count": 53,
     "metadata": {},
     "output_type": "execute_result"
    }
   ],
   "source": [
    "maximum_fare = titanic_data['Fare'].max()\n",
    "maximum_fare"
   ]
  },
  {
   "cell_type": "code",
   "execution_count": 54,
   "id": "3160420a",
   "metadata": {},
   "outputs": [],
   "source": [
    "expensive_passengers = titanic_data[titanic_data['Fare'] == max_fare]"
   ]
  },
  {
   "cell_type": "code",
   "execution_count": 55,
   "id": "78b7c143",
   "metadata": {},
   "outputs": [
    {
     "name": "stdout",
     "output_type": "stream",
     "text": [
      "                                                  Name      Fare\n",
      "343  Cardeza, Mrs. James Warburton Martinez (Charlo...  512.3292\n"
     ]
    }
   ],
   "source": [
    "print(expensive_passengers[['Name', 'Fare']])"
   ]
  },
  {
   "cell_type": "code",
   "execution_count": 56,
   "id": "29d4b08e",
   "metadata": {},
   "outputs": [
    {
     "data": {
      "text/plain": [
       "Embarked  Sex     Pclass  Survived\n",
       "C         female  1       1            28\n",
       "                  2       1             4\n",
       "                  3       1             8\n",
       "          male    1       0            28\n",
       "                  2       0             7\n",
       "                  3       0            27\n",
       "Q         female  1       1             1\n",
       "                  3       1            23\n",
       "          male    2       0             4\n",
       "                  3       0            18\n",
       "S         female  1       1            21\n",
       "                  2       1            26\n",
       "                  3       1            41\n",
       "          male    1       0            29\n",
       "                  2       0            52\n",
       "                  3       0           100\n",
       "Name: count, dtype: int64"
      ]
     },
     "execution_count": 56,
     "metadata": {},
     "output_type": "execute_result"
    }
   ],
   "source": [
    "avg_survival_rate = titanic_data.groupby(['Embarked','Sex','Pclass'])['Survived'].value_counts()\n",
    "avg_survival_rate"
   ]
  },
  {
   "cell_type": "code",
   "execution_count": 57,
   "id": "2c610040",
   "metadata": {},
   "outputs": [],
   "source": [
    "mean_age = titanic_data.groupby('Pclass')['Age'].mean()"
   ]
  },
  {
   "cell_type": "code",
   "execution_count": 58,
   "id": "83390463",
   "metadata": {},
   "outputs": [],
   "source": [
    "cond = titanic_data['Age'] > titanic_data['Pclass'].map(mean_age)"
   ]
  },
  {
   "cell_type": "code",
   "execution_count": 59,
   "id": "df71e739",
   "metadata": {},
   "outputs": [],
   "source": [
    "passengers_mean_age = titanic_data[cond]"
   ]
  },
  {
   "cell_type": "code",
   "execution_count": 60,
   "id": "67220376",
   "metadata": {},
   "outputs": [
    {
     "data": {
      "text/plain": [
       "0                      Kelly, Mr. James\n",
       "1      Wilkes, Mrs. James (Ellen Needs)\n",
       "2             Myles, Mr. Thomas Francis\n",
       "3                      Wirz, Mr. Albert\n",
       "6                  Connolly, Miss. Kate\n",
       "                     ...               \n",
       "412      Henriksson, Miss. Jenny Lovisa\n",
       "413                  Spector, Mr. Woolf\n",
       "415        Saether, Mr. Simon Sivertsen\n",
       "416                 Ware, Mr. Frederick\n",
       "417            Peter, Master. Michael J\n",
       "Name: Name, Length: 229, dtype: object"
      ]
     },
     "execution_count": 60,
     "metadata": {},
     "output_type": "execute_result"
    }
   ],
   "source": [
    "passenger_names = passengers_mean_age['Name']\n",
    "passenger_names"
   ]
  },
  {
   "cell_type": "code",
   "execution_count": 61,
   "id": "aceef917",
   "metadata": {},
   "outputs": [
    {
     "name": "stdout",
     "output_type": "stream",
     "text": [
      "                                 Name  Pclass   Age\n",
      "0                    Kelly, Mr. James       3  34.5\n",
      "1    Wilkes, Mrs. James (Ellen Needs)       3  47.0\n",
      "2           Myles, Mr. Thomas Francis       2  62.0\n",
      "3                    Wirz, Mr. Albert       3  27.0\n",
      "6                Connolly, Miss. Kate       3  30.0\n",
      "..                                ...     ...   ...\n",
      "412    Henriksson, Miss. Jenny Lovisa       3  28.0\n",
      "413                Spector, Mr. Woolf       3  27.0\n",
      "415      Saether, Mr. Simon Sivertsen       3  38.5\n",
      "416               Ware, Mr. Frederick       3  27.0\n",
      "417          Peter, Master. Michael J       3  27.0\n",
      "\n",
      "[229 rows x 3 columns]\n"
     ]
    }
   ],
   "source": [
    "#using lambda func\n",
    "mean_age = titanic_data.groupby('Pclass')['Age'].mean()\n",
    "\n",
    "passenger_names = titanic_data[titanic_data.apply(lambda x: x['Age'] > mean_age[x['Pclass']], axis=1)]\n",
    "\n",
    "print(passenger_names[['Name', 'Pclass', 'Age']])"
   ]
  },
  {
   "cell_type": "code",
   "execution_count": 62,
   "id": "87e84121",
   "metadata": {},
   "outputs": [
    {
     "data": {
      "text/html": [
       "<div>\n",
       "<style scoped>\n",
       "    .dataframe tbody tr th:only-of-type {\n",
       "        vertical-align: middle;\n",
       "    }\n",
       "\n",
       "    .dataframe tbody tr th {\n",
       "        vertical-align: top;\n",
       "    }\n",
       "\n",
       "    .dataframe thead th {\n",
       "        text-align: right;\n",
       "    }\n",
       "</style>\n",
       "<table border=\"1\" class=\"dataframe\">\n",
       "  <thead>\n",
       "    <tr style=\"text-align: right;\">\n",
       "      <th>Pclass</th>\n",
       "      <th>1</th>\n",
       "      <th>2</th>\n",
       "      <th>3</th>\n",
       "    </tr>\n",
       "    <tr>\n",
       "      <th>Sex</th>\n",
       "      <th></th>\n",
       "      <th></th>\n",
       "      <th></th>\n",
       "    </tr>\n",
       "  </thead>\n",
       "  <tbody>\n",
       "    <tr>\n",
       "      <th>female</th>\n",
       "      <td>115.591168</td>\n",
       "      <td>26.438750</td>\n",
       "      <td>13.735129</td>\n",
       "    </tr>\n",
       "    <tr>\n",
       "      <th>male</th>\n",
       "      <td>75.586551</td>\n",
       "      <td>20.184654</td>\n",
       "      <td>11.826350</td>\n",
       "    </tr>\n",
       "  </tbody>\n",
       "</table>\n",
       "</div>"
      ],
      "text/plain": [
       "Pclass           1          2          3\n",
       "Sex                                     \n",
       "female  115.591168  26.438750  13.735129\n",
       "male     75.586551  20.184654  11.826350"
      ]
     },
     "execution_count": 62,
     "metadata": {},
     "output_type": "execute_result"
    }
   ],
   "source": [
    "pivot = titanic_data.pivot_table(values='Fare', index='Sex', columns='Pclass', aggfunc='mean')\n",
    "pivot"
   ]
  }
 ],
 "metadata": {
  "kernelspec": {
   "display_name": "Python 3",
   "language": "python",
   "name": "python3"
  },
  "language_info": {
   "codemirror_mode": {
    "name": "ipython",
    "version": 3
   },
   "file_extension": ".py",
   "mimetype": "text/x-python",
   "name": "python",
   "nbconvert_exporter": "python",
   "pygments_lexer": "ipython3",
   "version": "3.12.6"
  }
 },
 "nbformat": 4,
 "nbformat_minor": 5
}
